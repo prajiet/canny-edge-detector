{
 "cells": [
  {
   "cell_type": "code",
   "execution_count": 1,
   "metadata": {},
   "outputs": [],
   "source": [
    "import numpy as np\n",
    "from scipy.ndimage.filters import convolve, gaussian_filter\n",
    "from scipy.misc import imread, imshow\n",
    "import matplotlib.pyplot as plt\n",
    "import cv2\n",
    "%matplotlib inline"
   ]
  },
  {
   "cell_type": "code",
   "execution_count": 10,
   "metadata": {},
   "outputs": [],
   "source": [
    "def CannyEdgeDetector(im, blur = 1, highThreshold = 110, lowThreshold = 200):\n",
    "    im = np.array(im, dtype=float) #Convert to float to prevent clipping values\n",
    " \n",
    "    #Gaussian blur to reduce noise\n",
    "    im2 = gaussian_filter(im, blur)\n",
    " \n",
    "    #Use sobel filters to get horizontal and vertical gradients\n",
    "    im3h = convolve(im2,[[-1,0,1],[-2,0,2],[-1,0,1]]) \n",
    "    im3v = convolve(im2,[[1,2,1],[0,0,0],[-1,-2,-1]])\n",
    "\n",
    "    #Get gradient and direction\n",
    "    grad = np.power(np.power(im3h, 2.0) + np.power(im3v, 2.0), 0.5)\n",
    "    theta = np.arctan2(im3v, im3h)\n",
    "    thetaQ = (np.round(theta * (5.0 / np.pi)) + 5) % 5 #Quantize direction\n",
    " \n",
    "    #Non-maximum suppression\n",
    "    gradSup = grad.copy()\n",
    "    for r in range(im.shape[0]):\n",
    "        for c in range(im.shape[1]):\n",
    "            #Suppress pixels at the image edge\n",
    "            if r == 0 or r == im.shape[0]-1 or c == 0 or c == im.shape[1] - 1:\n",
    "                gradSup[r, c] = 0\n",
    "                continue\n",
    "            tq = thetaQ[r, c] % 4\n",
    " \n",
    "            if tq == 0: #0 is E-W (horizontal)\n",
    "                if grad[r, c] <= grad[r, c-1] or grad[r, c] <= grad[r, c+1]:\n",
    "                    gradSup[r, c] = 0\n",
    "            if tq == 1: #1 is NE-SW\n",
    "                if grad[r, c] <= grad[r-1, c+1] or grad[r, c] <= grad[r+1, c-1]:\n",
    "                    gradSup[r, c] = 0\n",
    "            if tq == 2: #2 is N-S (vertical)\n",
    "                if grad[r, c] <= grad[r-1, c] or grad[r, c] <= grad[r+1, c]:\n",
    "                    gradSup[r, c] = 0\n",
    "            if tq == 3: #3 is NW-SE\n",
    "                if grad[r, c] <= grad[r-1, c-1] or grad[r, c] <= grad[r+1, c+1]:\n",
    "                    gradSup[r, c] = 0\n",
    " \n",
    "    #Double threshold\n",
    "    strongEdges = (gradSup > highThreshold)\n",
    " \n",
    "    #Strong has value 2, weak has value 1\n",
    "    thresholdedEdges = np.array(strongEdges, dtype=np.uint8) + (gradSup > lowThreshold)\n",
    " \n",
    "    #Tracing edges with hysteresis\t\n",
    "    #Find weak edge pixels near strong edge pixels\n",
    "    finalEdges = strongEdges.copy()\n",
    "    currentPixels = []\n",
    "    for r in range(1, im.shape[0]-1):\n",
    "        for c in range(1, im.shape[1]-1):\t\n",
    "            if thresholdedEdges[r, c] != 1:\n",
    "                continue #Not a weak pixel\n",
    " \n",
    "            #Get 3x3 patch\t\n",
    "            localPatch = thresholdedEdges[r-1:r+2,c-1:c+2]\n",
    "            patchMax = localPatch.max()\n",
    "            if patchMax == 2:\n",
    "                currentPixels.append((r, c))\n",
    "                finalEdges[r, c] = 1\n",
    " \n",
    "    #Extend strong edges based on current pixels\n",
    "    while len(currentPixels) > 0:\n",
    "        newPix = []\n",
    "        for r, c in currentPixels:\n",
    "            for dr in range(-1, 2):\n",
    "                for dc in range(-1, 2):\n",
    "                    if dr == 0 and dc == 0: continue\n",
    "                    r2 = r+dr\n",
    "                    c2 = c+dc\n",
    "                    if thresholdedEdges[r2, c2] == 1 and finalEdges[r2, c2] == 0:\n",
    "                        #Copy this weak pixel to final result\n",
    "                        newPix.append((r2, c2))\n",
    "                        finalEdges[r2, c2] = 1\n",
    "        currentPixels = newPix\n",
    " \n",
    "    return finalEdges"
   ]
  },
  {
   "cell_type": "code",
   "execution_count": 11,
   "metadata": {},
   "outputs": [
    {
     "name": "stderr",
     "output_type": "stream",
     "text": [
      "C:\\Users\\prajiet\\Anaconda3\\lib\\site-packages\\ipykernel_launcher.py:1: DeprecationWarning: `imread` is deprecated!\n",
      "`imread` is deprecated in SciPy 1.0.0, and will be removed in 1.2.0.\n",
      "Use ``imageio.imread`` instead.\n",
      "  \"\"\"Entry point for launching an IPython kernel.\n"
     ]
    },
    {
     "data": {
      "text/plain": [
       "<matplotlib.image.AxesImage at 0x1e116bcada0>"
      ]
     },
     "execution_count": 11,
     "metadata": {},
     "output_type": "execute_result"
    },
    {
     "data": {
      "image/png": "[encoded data removed]",
      "text/plain": [
       "<Figure size 1800x504 with 1 Axes>"
      ]
     },
     "metadata": {},
     "output_type": "display_data"
    }
   ],
   "source": [
    "im = imread(\"messi.jpg\", mode=\"L\") #Open image, convert to greyscale\n",
    "finalEdges = CannyEdgeDetector(im)\n",
    "edges = cv2.Canny(im,100,200)\n",
    "plt.figure(figsize=(25,7))\n",
    "plt.imshow(finalEdges,cmap='gray')"
   ]
  },
  {
   "cell_type": "code",
   "execution_count": null,
   "metadata": {},
   "outputs": [],
   "source": []
  }
 ],
 "metadata": {
  "kernelspec": {
   "display_name": "Python 3",
   "language": "python",
   "name": "python3"
  },
  "language_info": {
   "codemirror_mode": {
    "name": "ipython",
    "version": 3
   },
   "file_extension": ".py",
   "mimetype": "text/x-python",
   "name": "python",
   "nbconvert_exporter": "python",
   "pygments_lexer": "ipython3",
   "version": "3.6.5"
  }
 },
 "nbformat": 4,
 "nbformat_minor": 2
}
